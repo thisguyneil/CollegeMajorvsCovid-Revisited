{
 "cells": [
  {
   "cell_type": "markdown",
   "id": "63f23f58",
   "metadata": {},
   "source": [
    "## Perceived importance of Covid-19 in college students, what factors make a difference?\n",
    "\n",
    "![College Covid Picture](assets/CollegeCovid.jpeg)\n",
    "\n",
    "## Refer to the "
   ]
  },
  {
   "cell_type": "code",
   "execution_count": 15,
   "id": "10be7a87",
   "metadata": {},
   "outputs": [],
   "source": [
    "#This cell loads the packages we will need to run our code\n",
    "import pandas as pd\n",
    "import matplotlib.pyplot as plt \n",
    "import numpy as np"
   ]
  },
  {
   "cell_type": "markdown",
   "id": "daef5864",
   "metadata": {},
   "source": [
    "## 1. Read the Data In\n",
    "In this cell I will read in the raw study responses file into the data frame and display the headers of my columns to make sure the data was loaded in correctly \n",
    "\n"
   ]
  },
  {
   "cell_type": "code",
   "execution_count": 16,
   "id": "1db57796",
   "metadata": {},
   "outputs": [
    {
     "name": "stdout",
     "output_type": "stream",
     "text": [
      "Index(['Timestamp', 'Have you read the informed consent linked above? ',\n",
      "       'Are you at least 18 years old?', 'What is your biological sex?',\n",
      "       'What is your college major?', 'What grade in college are you?',\n",
      "       'Have you or has anyone you know ever contracted Covid-19?',\n",
      "       'How important is taking proper precautions to prevent exposure to Covid-19 to you?',\n",
      "       'How important is getting vaccinated against Covid-19 to you?',\n",
      "       'How important is wearing masks to help slow the spread of transmission of Covid-19 to you?',\n",
      "       'How important is social distancing to help slow the spread of Covid-19 to you?',\n",
      "       'Have you received any vaccinations to help prevent Covid-19?',\n",
      "       'If no to the above question, do you plan on getting a vaccination to help prevent Covid-19?',\n",
      "       'How important will Covid-19 be in your selected field of study once you graduate?',\n",
      "       'My college has taken proper steps in preventing the spread of Covid-19',\n",
      "       'My college classes have updated their curriculum in response to Covid-19'],\n",
      "      dtype='object')\n"
     ]
    }
   ],
   "source": [
    "df = pd.read_excel('data/Raw_Study_Responses.xlsx')\n",
    "headers_df = pd.read_excel('data/Raw_Study_Responses.xlsx', header=0)\n",
    "print(headers_df.columns)"
   ]
  },
  {
   "cell_type": "markdown",
   "id": "e0679e3b",
   "metadata": {},
   "source": [
    "## 2. Clean the data\n",
    "As you can see from step 1, my column names are quite long, here I will clean various columns in my data and copy the new data into a new excel file. "
   ]
  },
  {
   "cell_type": "code",
   "execution_count": 17,
   "id": "f73bb1b3",
   "metadata": {},
   "outputs": [],
   "source": [
    "#1. I will change the column names from the questions to a dictionary with shorter names\n",
    "new_names = {'What is your biological sex?': 'biosex',\n",
    "             'What is your college major?': 'college_major',\n",
    "             'What grade in college are you?': 'college_grade',\n",
    "             'Have you or has anyone you know ever contracted Covid-19?': 'question_1',\n",
    "             'How important is taking proper precautions to prevent exposure to Covid-19 to you?': 'question_2',\n",
    "             'How important is getting vaccinated against Covid-19 to you?': 'question_3',\n",
    "             'How important is wearing masks to help slow the spread of transmission of Covid-19 to you?': 'question_4',\n",
    "             'How important is social distancing to help slow the spread of Covid-19 to you?': 'question_5',\n",
    "             'Have you received any vaccinations to help prevent Covid-19?': 'question_6',\n",
    "             'My college classes have updated their curriculum in response to Covid-19': 'question_7'}\n",
    "df = df.rename(columns=new_names)\n",
    "\n",
    "#2. Here I will drop unneeded columns from this study\n",
    "df = df.drop(columns=['If no to the above question, do you plan on getting a vaccination to help prevent Covid-19?', 'How important will Covid-19 be in your selected field of study once you graduate?', 'My college has taken proper steps in preventing the spread of Covid-19'])\n",
    "\n",
    "#3. Here I will remove subjects under the age of 18\n",
    "df = df[df['Are you at least 18 years old?'] == 'Yes']\n",
    "\n",
    "#4. Here I will drop all rows that are either blank, say \"Undecided\" or \"Dual Credit\" from the college_major column\n",
    "df = df.drop(df[(df['college_major'] == '') | (df['college_major'] == 'Undecided') | (df['college_major'] == 'Dual Credit')].index)\n",
    "\n",
    "#5. Here I will create a list of STEM majors covered in my study, then create a column and categorize answers for STEM vs non-STEM majors\n",
    "stem_majors = ['Nursing', 'Digital Marketing', 'Psychology', 'Exercise Science', 'Health and Physical Education', 'Secondary Math Education', 'Elementary Education', 'Biology', 'Education', 'Health Promotion', 'Physical Education', 'Chemistry']\n",
    "df[\"college_major\"] = df[\"college_major\"].astype(str).str.strip()\n",
    "df[\"STEMvsNon-STEM\"] = df[\"college_major\"].apply(lambda x: \"STEM\" if x in stem_majors else \"Non-STEM\")\n",
    "\n",
    "#6. Now I will save everything to a new data file\n",
    "df.to_excel('data/updated_data.xlsx', index=False)\n",
    "    \n"
   ]
  },
  {
   "cell_type": "code",
   "execution_count": null,
   "id": "510da113",
   "metadata": {},
   "outputs": [],
   "source": []
  }
 ],
 "metadata": {
  "kernelspec": {
   "display_name": "Python 3 (ipykernel)",
   "language": "python",
   "name": "python3"
  },
  "language_info": {
   "codemirror_mode": {
    "name": "ipython",
    "version": 3
   },
   "file_extension": ".py",
   "mimetype": "text/x-python",
   "name": "python",
   "nbconvert_exporter": "python",
   "pygments_lexer": "ipython3",
   "version": "3.9.13"
  }
 },
 "nbformat": 4,
 "nbformat_minor": 5
}
