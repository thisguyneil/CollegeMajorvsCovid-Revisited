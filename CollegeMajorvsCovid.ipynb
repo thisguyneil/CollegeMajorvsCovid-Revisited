{
 "cells": [
  {
   "cell_type": "markdown",
   "id": "63f23f58",
   "metadata": {},
   "source": [
    "## Perceived importance of Covid-19 in college students, what factors make a difference?\n",
    "\n",
    "![College Covid Picture](assets/CollegeCovid.jpeg)\n",
    "\n",
    "## Refer to the "
   ]
  },
  {
   "cell_type": "code",
   "execution_count": 8,
   "id": "10be7a87",
   "metadata": {},
   "outputs": [],
   "source": [
    "#This cell loads the packages we will need to run our code\n",
    "import pandas as pd\n",
    "import matplotlib.pyplot as plt \n",
    "import numpy as np"
   ]
  },
  {
   "cell_type": "markdown",
   "id": "daef5864",
   "metadata": {},
   "source": [
    "## 1. Read the Data In\n",
    "In this cell I will read in the raw study responses file into the data frame and display the headers of my columns to make sure the data was loaded in correctly \n",
    "\n"
   ]
  },
  {
   "cell_type": "code",
   "execution_count": 9,
   "id": "1db57796",
   "metadata": {},
   "outputs": [
    {
     "name": "stdout",
     "output_type": "stream",
     "text": [
      "Index(['Timestamp', 'Have you read the informed consent linked above? ',\n",
      "       'Are you at least 18 years old?', 'What is your biological sex?',\n",
      "       'What is your college major?', 'What grade in college are you?',\n",
      "       'Have you or has anyone you know ever contracted Covid-19?',\n",
      "       'How important is taking proper precautions to prevent exposure to Covid-19 to you?',\n",
      "       'How important is getting vaccinated against Covid-19 to you?',\n",
      "       'How important is wearing masks to help slow the spread of transmission of Covid-19 to you?',\n",
      "       'How important is social distancing to help slow the spread of Covid-19 to you?',\n",
      "       'Have you received any vaccinations to help prevent Covid-19?',\n",
      "       'If no to the above question, do you plan on getting a vaccination to help prevent Covid-19?',\n",
      "       'How important will Covid-19 be in your selected field of study once you graduate?',\n",
      "       'My college has taken proper steps in preventing the spread of Covid-19',\n",
      "       'My college classes have updated their curriculum in response to Covid-19'],\n",
      "      dtype='object')\n"
     ]
    }
   ],
   "source": [
    "df = pd.read_excel('data/Raw_Study_Responses.xlsx')\n",
    "headers_df = pd.read_excel('data/Raw_Study_Responses.xlsx', header=0)\n",
    "print(headers_df.columns)"
   ]
  },
  {
   "cell_type": "markdown",
   "id": "e0679e3b",
   "metadata": {},
   "source": [
    "## 2. Clean the data\n",
    "As you can see from step 1, my column names are quite long, here I will clean various columns in my data and copy the new data into a new excel file. "
   ]
  },
  {
   "cell_type": "code",
   "execution_count": 14,
   "id": "f73bb1b3",
   "metadata": {},
   "outputs": [
    {
     "ename": "KeyError",
     "evalue": "\"['If no to the above question, do you plan on getting a vaccination to help prevent Covid-19?', 'How important will Covid-19 be in your selected field of study once you graduate?', 'My college has taken proper steps in preventing the spread of Covid-19'] not found in axis\"",
     "output_type": "error",
     "traceback": [
      "\u001b[0;31m---------------------------------------------------------------------------\u001b[0m",
      "\u001b[0;31mKeyError\u001b[0m                                  Traceback (most recent call last)",
      "\u001b[0;32m/var/folders/w9/n_c4c8sj4f7839sksknm7mwm0000gn/T/ipykernel_9258/3764803769.py\u001b[0m in \u001b[0;36m<module>\u001b[0;34m\u001b[0m\n\u001b[1;32m     13\u001b[0m \u001b[0;34m\u001b[0m\u001b[0m\n\u001b[1;32m     14\u001b[0m \u001b[0;31m#2. Here I will drop unneeded columns from this study\u001b[0m\u001b[0;34m\u001b[0m\u001b[0;34m\u001b[0m\u001b[0m\n\u001b[0;32m---> 15\u001b[0;31m \u001b[0mdf\u001b[0m \u001b[0;34m=\u001b[0m \u001b[0mdf\u001b[0m\u001b[0;34m.\u001b[0m\u001b[0mdrop\u001b[0m\u001b[0;34m(\u001b[0m\u001b[0mcolumns\u001b[0m\u001b[0;34m=\u001b[0m\u001b[0;34m[\u001b[0m\u001b[0;34m'If no to the above question, do you plan on getting a vaccination to help prevent Covid-19?'\u001b[0m\u001b[0;34m,\u001b[0m \u001b[0;34m'How important will Covid-19 be in your selected field of study once you graduate?'\u001b[0m\u001b[0;34m,\u001b[0m \u001b[0;34m'My college has taken proper steps in preventing the spread of Covid-19'\u001b[0m\u001b[0;34m]\u001b[0m\u001b[0;34m)\u001b[0m\u001b[0;34m\u001b[0m\u001b[0;34m\u001b[0m\u001b[0m\n\u001b[0m\u001b[1;32m     16\u001b[0m \u001b[0;34m\u001b[0m\u001b[0m\n\u001b[1;32m     17\u001b[0m \u001b[0;31m#3. Here I will remove subjects under the age of 18\u001b[0m\u001b[0;34m\u001b[0m\u001b[0;34m\u001b[0m\u001b[0m\n",
      "\u001b[0;32m/opt/anaconda3/lib/python3.9/site-packages/pandas/util/_decorators.py\u001b[0m in \u001b[0;36mwrapper\u001b[0;34m(*args, **kwargs)\u001b[0m\n\u001b[1;32m    309\u001b[0m                     \u001b[0mstacklevel\u001b[0m\u001b[0;34m=\u001b[0m\u001b[0mstacklevel\u001b[0m\u001b[0;34m,\u001b[0m\u001b[0;34m\u001b[0m\u001b[0;34m\u001b[0m\u001b[0m\n\u001b[1;32m    310\u001b[0m                 )\n\u001b[0;32m--> 311\u001b[0;31m             \u001b[0;32mreturn\u001b[0m \u001b[0mfunc\u001b[0m\u001b[0;34m(\u001b[0m\u001b[0;34m*\u001b[0m\u001b[0margs\u001b[0m\u001b[0;34m,\u001b[0m \u001b[0;34m**\u001b[0m\u001b[0mkwargs\u001b[0m\u001b[0;34m)\u001b[0m\u001b[0;34m\u001b[0m\u001b[0;34m\u001b[0m\u001b[0m\n\u001b[0m\u001b[1;32m    312\u001b[0m \u001b[0;34m\u001b[0m\u001b[0m\n\u001b[1;32m    313\u001b[0m         \u001b[0;32mreturn\u001b[0m \u001b[0mwrapper\u001b[0m\u001b[0;34m\u001b[0m\u001b[0;34m\u001b[0m\u001b[0m\n",
      "\u001b[0;32m/opt/anaconda3/lib/python3.9/site-packages/pandas/core/frame.py\u001b[0m in \u001b[0;36mdrop\u001b[0;34m(self, labels, axis, index, columns, level, inplace, errors)\u001b[0m\n\u001b[1;32m   4955\u001b[0m                 \u001b[0mweight\u001b[0m  \u001b[0;36m1.0\u001b[0m     \u001b[0;36m0.8\u001b[0m\u001b[0;34m\u001b[0m\u001b[0;34m\u001b[0m\u001b[0m\n\u001b[1;32m   4956\u001b[0m         \"\"\"\n\u001b[0;32m-> 4957\u001b[0;31m         return super().drop(\n\u001b[0m\u001b[1;32m   4958\u001b[0m             \u001b[0mlabels\u001b[0m\u001b[0;34m=\u001b[0m\u001b[0mlabels\u001b[0m\u001b[0;34m,\u001b[0m\u001b[0;34m\u001b[0m\u001b[0;34m\u001b[0m\u001b[0m\n\u001b[1;32m   4959\u001b[0m             \u001b[0maxis\u001b[0m\u001b[0;34m=\u001b[0m\u001b[0maxis\u001b[0m\u001b[0;34m,\u001b[0m\u001b[0;34m\u001b[0m\u001b[0;34m\u001b[0m\u001b[0m\n",
      "\u001b[0;32m/opt/anaconda3/lib/python3.9/site-packages/pandas/core/generic.py\u001b[0m in \u001b[0;36mdrop\u001b[0;34m(self, labels, axis, index, columns, level, inplace, errors)\u001b[0m\n\u001b[1;32m   4265\u001b[0m         \u001b[0;32mfor\u001b[0m \u001b[0maxis\u001b[0m\u001b[0;34m,\u001b[0m \u001b[0mlabels\u001b[0m \u001b[0;32min\u001b[0m \u001b[0maxes\u001b[0m\u001b[0;34m.\u001b[0m\u001b[0mitems\u001b[0m\u001b[0;34m(\u001b[0m\u001b[0;34m)\u001b[0m\u001b[0;34m:\u001b[0m\u001b[0;34m\u001b[0m\u001b[0;34m\u001b[0m\u001b[0m\n\u001b[1;32m   4266\u001b[0m             \u001b[0;32mif\u001b[0m \u001b[0mlabels\u001b[0m \u001b[0;32mis\u001b[0m \u001b[0;32mnot\u001b[0m \u001b[0;32mNone\u001b[0m\u001b[0;34m:\u001b[0m\u001b[0;34m\u001b[0m\u001b[0;34m\u001b[0m\u001b[0m\n\u001b[0;32m-> 4267\u001b[0;31m                 \u001b[0mobj\u001b[0m \u001b[0;34m=\u001b[0m \u001b[0mobj\u001b[0m\u001b[0;34m.\u001b[0m\u001b[0m_drop_axis\u001b[0m\u001b[0;34m(\u001b[0m\u001b[0mlabels\u001b[0m\u001b[0;34m,\u001b[0m \u001b[0maxis\u001b[0m\u001b[0;34m,\u001b[0m \u001b[0mlevel\u001b[0m\u001b[0;34m=\u001b[0m\u001b[0mlevel\u001b[0m\u001b[0;34m,\u001b[0m \u001b[0merrors\u001b[0m\u001b[0;34m=\u001b[0m\u001b[0merrors\u001b[0m\u001b[0;34m)\u001b[0m\u001b[0;34m\u001b[0m\u001b[0;34m\u001b[0m\u001b[0m\n\u001b[0m\u001b[1;32m   4268\u001b[0m \u001b[0;34m\u001b[0m\u001b[0m\n\u001b[1;32m   4269\u001b[0m         \u001b[0;32mif\u001b[0m \u001b[0minplace\u001b[0m\u001b[0;34m:\u001b[0m\u001b[0;34m\u001b[0m\u001b[0;34m\u001b[0m\u001b[0m\n",
      "\u001b[0;32m/opt/anaconda3/lib/python3.9/site-packages/pandas/core/generic.py\u001b[0m in \u001b[0;36m_drop_axis\u001b[0;34m(self, labels, axis, level, errors, consolidate, only_slice)\u001b[0m\n\u001b[1;32m   4309\u001b[0m                 \u001b[0mnew_axis\u001b[0m \u001b[0;34m=\u001b[0m \u001b[0maxis\u001b[0m\u001b[0;34m.\u001b[0m\u001b[0mdrop\u001b[0m\u001b[0;34m(\u001b[0m\u001b[0mlabels\u001b[0m\u001b[0;34m,\u001b[0m \u001b[0mlevel\u001b[0m\u001b[0;34m=\u001b[0m\u001b[0mlevel\u001b[0m\u001b[0;34m,\u001b[0m \u001b[0merrors\u001b[0m\u001b[0;34m=\u001b[0m\u001b[0merrors\u001b[0m\u001b[0;34m)\u001b[0m\u001b[0;34m\u001b[0m\u001b[0;34m\u001b[0m\u001b[0m\n\u001b[1;32m   4310\u001b[0m             \u001b[0;32melse\u001b[0m\u001b[0;34m:\u001b[0m\u001b[0;34m\u001b[0m\u001b[0;34m\u001b[0m\u001b[0m\n\u001b[0;32m-> 4311\u001b[0;31m                 \u001b[0mnew_axis\u001b[0m \u001b[0;34m=\u001b[0m \u001b[0maxis\u001b[0m\u001b[0;34m.\u001b[0m\u001b[0mdrop\u001b[0m\u001b[0;34m(\u001b[0m\u001b[0mlabels\u001b[0m\u001b[0;34m,\u001b[0m \u001b[0merrors\u001b[0m\u001b[0;34m=\u001b[0m\u001b[0merrors\u001b[0m\u001b[0;34m)\u001b[0m\u001b[0;34m\u001b[0m\u001b[0;34m\u001b[0m\u001b[0m\n\u001b[0m\u001b[1;32m   4312\u001b[0m             \u001b[0mindexer\u001b[0m \u001b[0;34m=\u001b[0m \u001b[0maxis\u001b[0m\u001b[0;34m.\u001b[0m\u001b[0mget_indexer\u001b[0m\u001b[0;34m(\u001b[0m\u001b[0mnew_axis\u001b[0m\u001b[0;34m)\u001b[0m\u001b[0;34m\u001b[0m\u001b[0;34m\u001b[0m\u001b[0m\n\u001b[1;32m   4313\u001b[0m \u001b[0;34m\u001b[0m\u001b[0m\n",
      "\u001b[0;32m/opt/anaconda3/lib/python3.9/site-packages/pandas/core/indexes/base.py\u001b[0m in \u001b[0;36mdrop\u001b[0;34m(self, labels, errors)\u001b[0m\n\u001b[1;32m   6659\u001b[0m         \u001b[0;32mif\u001b[0m \u001b[0mmask\u001b[0m\u001b[0;34m.\u001b[0m\u001b[0many\u001b[0m\u001b[0;34m(\u001b[0m\u001b[0;34m)\u001b[0m\u001b[0;34m:\u001b[0m\u001b[0;34m\u001b[0m\u001b[0;34m\u001b[0m\u001b[0m\n\u001b[1;32m   6660\u001b[0m             \u001b[0;32mif\u001b[0m \u001b[0merrors\u001b[0m \u001b[0;34m!=\u001b[0m \u001b[0;34m\"ignore\"\u001b[0m\u001b[0;34m:\u001b[0m\u001b[0;34m\u001b[0m\u001b[0;34m\u001b[0m\u001b[0m\n\u001b[0;32m-> 6661\u001b[0;31m                 \u001b[0;32mraise\u001b[0m \u001b[0mKeyError\u001b[0m\u001b[0;34m(\u001b[0m\u001b[0;34mf\"{list(labels[mask])} not found in axis\"\u001b[0m\u001b[0;34m)\u001b[0m\u001b[0;34m\u001b[0m\u001b[0;34m\u001b[0m\u001b[0m\n\u001b[0m\u001b[1;32m   6662\u001b[0m             \u001b[0mindexer\u001b[0m \u001b[0;34m=\u001b[0m \u001b[0mindexer\u001b[0m\u001b[0;34m[\u001b[0m\u001b[0;34m~\u001b[0m\u001b[0mmask\u001b[0m\u001b[0;34m]\u001b[0m\u001b[0;34m\u001b[0m\u001b[0;34m\u001b[0m\u001b[0m\n\u001b[1;32m   6663\u001b[0m         \u001b[0;32mreturn\u001b[0m \u001b[0mself\u001b[0m\u001b[0;34m.\u001b[0m\u001b[0mdelete\u001b[0m\u001b[0;34m(\u001b[0m\u001b[0mindexer\u001b[0m\u001b[0;34m)\u001b[0m\u001b[0;34m\u001b[0m\u001b[0;34m\u001b[0m\u001b[0m\n",
      "\u001b[0;31mKeyError\u001b[0m: \"['If no to the above question, do you plan on getting a vaccination to help prevent Covid-19?', 'How important will Covid-19 be in your selected field of study once you graduate?', 'My college has taken proper steps in preventing the spread of Covid-19'] not found in axis\""
     ]
    }
   ],
   "source": [
    "#1. I will change the column names from the questions to a dictionary with shorter names\n",
    "new_names = {'What is your biological sex?': 'biosex',\n",
    "             'What is your college major?': 'college_major',\n",
    "             'What grade in college are you?': 'college_grade',\n",
    "             'Have you or has anyone you know ever contracted Covid-19?': 'question_1',\n",
    "             'How important is taking proper precautions to prevent exposure to Covid-19 to you?': 'question_2',\n",
    "             'How important is getting vaccinated against Covid-19 to you?': 'question_3',\n",
    "             'How important is wearing masks to help slow the spread of transmission of Covid-19 to you?': 'question_4',\n",
    "             'How important is social distancing to help slow the spread of Covid-19 to you?': 'question_5',\n",
    "             'Have you received any vaccinations to help prevent Covid-19?': 'question_6',\n",
    "             'My college classes have updated their curriculum in response to Covid-19': 'question_7'}\n",
    "df = df.rename(columns=new_names)\n",
    "\n",
    "#2. Here I will drop unneeded columns from this study\n",
    "df = df.drop(columns=['If no to the above question, do you plan on getting a vaccination to help prevent Covid-19?', 'How important will Covid-19 be in your selected field of study once you graduate?', 'My college has taken proper steps in preventing the spread of Covid-19'])\n",
    "\n",
    "#3. Here I will remove subjects under the age of 18\n",
    "df = df[df['Are you at least 18 years old?'] == 'Yes']\n",
    "\n",
    "#4. Here I will drop all rows that are either blank, say \"Undecided\" or \"Dual Credit\" from the college_major column\n",
    "df = df.drop(df[(df['college_major'] == '') | (df['college_major'] == 'Undecided') | (df['college_major'] == 'Dual Credit')].index)\n",
    "\n",
    "#5. Here I will create a list of STEM majors covered in my study, then create a column and categorize answers for STEM vs non-STEM majors\n",
    "stem_majors = ['Nursing', 'Digital Marketing', 'Psychology', 'Exercise Science', 'Health and Physical Education', 'Secondary Math Education', 'Elementary Education', 'Biology', 'Education', 'Health Promotion', 'Physical Education', 'Chemistry']\n",
    "df[\"college_major\"] = df[\"college_major\"].astype(str).str.strip()\n",
    "df[\"STEMvsNon-STEM\"] = df[\"college_major\"].apply(lambda x: \"STEM\" if x in stem_majors else \"Non-STEM\")\n",
    "\n",
    "#6. Now I will save everything to a new data file\n",
    "df.to_excel('data/updated_data.xlsx', index=False)\n",
    "    \n"
   ]
  },
  {
   "cell_type": "code",
   "execution_count": null,
   "id": "510da113",
   "metadata": {},
   "outputs": [],
   "source": []
  }
 ],
 "metadata": {
  "kernelspec": {
   "display_name": "Python 3 (ipykernel)",
   "language": "python",
   "name": "python3"
  },
  "language_info": {
   "codemirror_mode": {
    "name": "ipython",
    "version": 3
   },
   "file_extension": ".py",
   "mimetype": "text/x-python",
   "name": "python",
   "nbconvert_exporter": "python",
   "pygments_lexer": "ipython3",
   "version": "3.9.13"
  }
 },
 "nbformat": 4,
 "nbformat_minor": 5
}
